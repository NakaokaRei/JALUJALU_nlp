{
 "cells": [
  {
   "cell_type": "code",
   "execution_count": 5,
   "metadata": {},
   "outputs": [
    {
     "name": "stdout",
     "output_type": "stream",
     "text": [
      "エラーで終わり\n",
      "<Response [400]>\n"
     ]
    }
   ],
   "source": [
    "import os\n",
    "import time\n",
    "import requests\n",
    "\n",
    "import pandas as pd\n",
    "\n",
    "\n",
    "API_KEY = os.environ['API_KEY']\n",
    "CHANNEL_ID = 'UChwgNUWPM-ksOP3BbfQHS5Q'\n",
    "\n",
    "\n",
    "base_url = 'https://www.googleapis.com/youtube/v3'\n",
    "url = base_url + '/search?key=%s&channelId=%s&part=snippet,id&maxResults=50&order=date'\n",
    "infos = []\n",
    "#publishedAfter = '2018-02-15T00:00:00Z'\n",
    "#publishedBefore = '2018-05-31T00:00:00Z'\n",
    "\n",
    "while True:\n",
    "    time.sleep(30)\n",
    "    response = requests.get(url % (API_KEY, CHANNEL_ID))\n",
    "    if response.status_code != 200:\n",
    "        print('エラーで終わり')\n",
    "        print(response)\n",
    "        break\n",
    "    result = response.json()\n",
    "    infos.extend([\n",
    "        [item['id']['videoId'], item['snippet']['title'], item['snippet']['description'], item['snippet']['publishedAt']]\n",
    "        for item in result['items'] if item['id']['kind'] == 'youtube#video'\n",
    "    ])\n",
    "\n",
    "    if 'nextPageToken' in result.keys():\n",
    "        if 'pageToken' in url:\n",
    "            url = url.split('&pageToken')[0]\n",
    "        url += f'&pageToken={result[\"nextPageToken\"]}'\n",
    "    else:\n",
    "        print('正常終了')\n",
    "        break\n",
    "\n",
    "videos = pd.DataFrame(infos, columns=['videoId', 'title', 'description', 'publishedAt'])\n",
    "videos.to_csv('data/video1.csv', index=None)"
   ]
  },
  {
   "cell_type": "code",
   "execution_count": 6,
   "metadata": {},
   "outputs": [],
   "source": [
    "import os\n",
    "import time\n",
    "import requests\n",
    "\n",
    "import pandas as pd\n",
    "\n",
    "\n",
    "API_KEY = os.environ['API_KEY']\n",
    "videos = pd.read_csv('videos.csv')\n",
    "base_url = 'https://www.googleapis.com/youtube/v3'\n",
    "stat_url = base_url + '/videos?key=%s&id=%s&part=statistics'\n",
    "\n",
    "len_block = 50\n",
    "video_ids_per_block = []\n",
    "video_ids = videos.videoId.values\n",
    "\n",
    "count = 0\n",
    "end_flag = False\n",
    "while not end_flag:\n",
    "    start = count * len_block\n",
    "    end = (count + 1) * len_block\n",
    "    if end >= len(video_ids):\n",
    "        end = len(video_ids)\n",
    "        end_flag = True\n",
    "\n",
    "    video_ids_per_block.append(','.join(video_ids[start:end]))\n",
    "\n",
    "    count += 1\n",
    "\n",
    "stats = []\n",
    "for block in video_ids_per_block:\n",
    "    time.sleep(30)\n",
    "    response = requests.get(stat_url % (API_KEY, block))\n",
    "    if response.status_code != 200:\n",
    "        print('error')\n",
    "        break\n",
    "    result = response.json()\n",
    "    stats.extend([item['statistics'] for item in result['items']])\n",
    "\n",
    "pd.DataFrame(stats).to_csv('data/stats.csv', index=None)"
   ]
  },
  {
   "cell_type": "code",
   "execution_count": 26,
   "metadata": {},
   "outputs": [],
   "source": [
    "videos = pd.read_csv('videos.csv')\n",
    "stasas = pd.read_csv('stats.csv')\n",
    "pd.merge(videos, stasas, left_index=True, right_index=True).to_csv('data/jarujaru_data.csv')"
   ]
  },
  {
   "cell_type": "code",
   "execution_count": 10,
   "metadata": {},
   "outputs": [
    {
     "data": {
      "image/png": "[encoded data removed]",
      "text/plain": [
       "<Figure size 432x288 with 1 Axes>"
      ]
     },
     "metadata": {},
     "output_type": "display_data"
    }
   ],
   "source": [
    "import matplotlib.pyplot as plt\n",
    "import pandas as pd\n",
    "\n",
    "df = pd.read_csv('jarujaru_data.csv')\n",
    "plt.hist(df['viewCount'], bins=200)\n",
    "plt.title('viewCount')\n",
    "plt.xlim([0, 1000000])\n",
    "plt.show()"
   ]
  },
  {
   "cell_type": "code",
   "execution_count": 3,
   "metadata": {},
   "outputs": [],
   "source": [
    "import re\n",
    "import pandas as pd\n",
    "info = []\n",
    "df = pd.read_csv('data/jarujaru_data.csv')\n",
    "for row, item in df.iterrows():\n",
    "    if '『' in item['title']:\n",
    "        title = 'x' + item['title']\n",
    "        title = re.split('[『』]', title)[1]\n",
    "        if item['viewCount'] >= 200000:\n",
    "            label = 2\n",
    "        elif 100000 <= item['viewCount'] < 200000:\n",
    "            label = 1\n",
    "        elif item['viewCount'] < 100000:\n",
    "            label = 0\n",
    "        info.extend([[title, item['viewCount'], item['likeCount'], item['dislikeCount'], item['commentCount'], label]])\n",
    "        \n",
    "pd.DataFrame(info, columns=['title', 'viewCount', 'likeCount', 'dislikeCount', 'commentCount', 'label']).to_csv('data/jarujaru_norm.csv')"
   ]
  },
  {
   "cell_type": "code",
   "execution_count": 5,
   "metadata": {},
   "outputs": [
    {
     "name": "stdout",
     "output_type": "stream",
     "text": [
      "['タイトル', '曲', 'バランス', '奴']\n"
     ]
    }
   ],
   "source": [
    "import analysis\n",
    "import pandas as pd\n",
    "\n",
    "df = pd.read_csv('data/jarujaru_norm.csv')\n",
    "words = analysis.get_words(df['title'])\n",
    "print(words[0])"
   ]
  },
  {
   "cell_type": "code",
   "execution_count": 6,
   "metadata": {},
   "outputs": [
    {
     "ename": "ModuleNotFoundError",
     "evalue": "No module named 'gensim'",
     "output_type": "error",
     "traceback": [
      "\u001b[0;31m---------------------------------------------------------------------------\u001b[0m",
      "\u001b[0;31mModuleNotFoundError\u001b[0m                       Traceback (most recent call last)",
      "\u001b[0;32m<ipython-input-6-437f8883a982>\u001b[0m in \u001b[0;36m<module>\u001b[0;34m()\u001b[0m\n\u001b[0;32m----> 1\u001b[0;31m \u001b[0;32mfrom\u001b[0m \u001b[0mgensim\u001b[0m \u001b[0;32mimport\u001b[0m \u001b[0mcorpora\u001b[0m\u001b[0;34m\u001b[0m\u001b[0;34m\u001b[0m\u001b[0m\n\u001b[0m\u001b[1;32m      2\u001b[0m \u001b[0;34m\u001b[0m\u001b[0m\n\u001b[1;32m      3\u001b[0m \u001b[0mdictionary\u001b[0m \u001b[0;34m=\u001b[0m \u001b[0mcorpora\u001b[0m\u001b[0;34m.\u001b[0m\u001b[0mDictionary\u001b[0m\u001b[0;34m(\u001b[0m\u001b[0mwords\u001b[0m\u001b[0;34m)\u001b[0m\u001b[0;34m\u001b[0m\u001b[0;34m\u001b[0m\u001b[0m\n\u001b[1;32m      4\u001b[0m \u001b[0mdictionary\u001b[0m\u001b[0;34m.\u001b[0m\u001b[0mfilter_extremes\u001b[0m\u001b[0;34m(\u001b[0m\u001b[0mno_below\u001b[0m \u001b[0;34m=\u001b[0m \u001b[0;36m200\u001b[0m\u001b[0;34m,\u001b[0m \u001b[0mno_above\u001b[0m \u001b[0;34m=\u001b[0m \u001b[0;36m0.2\u001b[0m\u001b[0;34m)\u001b[0m\u001b[0;34m\u001b[0m\u001b[0;34m\u001b[0m\u001b[0m\n\u001b[1;32m      5\u001b[0m \u001b[0;31m#dictionary.save_as_text(\"./tmp/dictionary.txt\") で、作成した辞書を保存可能\u001b[0m\u001b[0;34m\u001b[0m\u001b[0;34m\u001b[0m\u001b[0;34m\u001b[0m\u001b[0m\n",
      "\u001b[0;31mModuleNotFoundError\u001b[0m: No module named 'gensim'"
     ]
    }
   ],
   "source": [
    "from gensim import corpora\n",
    "\n",
    "dictionary = corpora.Dictionary(words)\n",
    "dictionary.filter_extremes(no_below = 200, no_above = 0.2)\n",
    "#dictionary.save_as_text(\"./tmp/dictionary.txt\") で、作成した辞書を保存可能\n",
    "#dictionary = corpora.Dictionary.load_from_text(\"./tmp/dictionary.txt\") で読み込み\n",
    "courpus = [dictionary.doc2bow(word) for word in words]"
   ]
  },
  {
   "cell_type": "code",
   "execution_count": null,
   "metadata": {},
   "outputs": [],
   "source": []
  }
 ],
 "metadata": {
  "kernelspec": {
   "display_name": "Python 3",
   "language": "python",
   "name": "python3"
  },
  "language_info": {
   "codemirror_mode": {
    "name": "ipython",
    "version": 3
   },
   "file_extension": ".py",
   "mimetype": "text/x-python",
   "name": "python",
   "nbconvert_exporter": "python",
   "pygments_lexer": "ipython3",
   "version": "3.6.8"
  }
 },
 "nbformat": 4,
 "nbformat_minor": 2
}
