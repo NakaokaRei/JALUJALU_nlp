{
 "cells": [
  {
   "cell_type": "code",
   "execution_count": 5,
   "metadata": {},
   "outputs": [
    {
     "name": "stdout",
     "output_type": "stream",
     "text": [
      "エラーで終わり\n",
      "<Response [400]>\n"
     ]
    }
   ],
   "source": [
    "import os\n",
    "import time\n",
    "import requests\n",
    "\n",
    "import pandas as pd\n",
    "\n",
    "\n",
    "API_KEY = os.environ['API_KEY']\n",
    "CHANNEL_ID = 'UChwgNUWPM-ksOP3BbfQHS5Q'\n",
    "\n",
    "\n",
    "base_url = 'https://www.googleapis.com/youtube/v3'\n",
    "url = base_url + '/search?key=%s&channelId=%s&part=snippet,id&maxResults=50&order=date'\n",
    "infos = []\n",
    "#publishedAfter = '2018-02-15T00:00:00Z'\n",
    "#publishedBefore = '2018-05-31T00:00:00Z'\n",
    "\n",
    "while True:\n",
    "    time.sleep(30)\n",
    "    response = requests.get(url % (API_KEY, CHANNEL_ID))\n",
    "    if response.status_code != 200:\n",
    "        print('エラーで終わり')\n",
    "        print(response)\n",
    "        break\n",
    "    result = response.json()\n",
    "    infos.extend([\n",
    "        [item['id']['videoId'], item['snippet']['title'], item['snippet']['description'], item['snippet']['publishedAt']]\n",
    "        for item in result['items'] if item['id']['kind'] == 'youtube#video'\n",
    "    ])\n",
    "\n",
    "    if 'nextPageToken' in result.keys():\n",
    "        if 'pageToken' in url:\n",
    "            url = url.split('&pageToken')[0]\n",
    "        url += f'&pageToken={result[\"nextPageToken\"]}'\n",
    "    else:\n",
    "        print('正常終了')\n",
    "        break\n",
    "\n",
    "videos = pd.DataFrame(infos, columns=['videoId', 'title', 'description', 'publishedAt'])\n",
    "videos.to_csv('data/video1.csv', index=None)"
   ]
  },
  {
   "cell_type": "code",
   "execution_count": 6,
   "metadata": {},
   "outputs": [],
   "source": [
    "import os\n",
    "import time\n",
    "import requests\n",
    "\n",
    "import pandas as pd\n",
    "\n",
    "\n",
    "API_KEY = os.environ['API_KEY']\n",
    "videos = pd.read_csv('videos.csv')\n",
    "base_url = 'https://www.googleapis.com/youtube/v3'\n",
    "stat_url = base_url + '/videos?key=%s&id=%s&part=statistics'\n",
    "\n",
    "len_block = 50\n",
    "video_ids_per_block = []\n",
    "video_ids = videos.videoId.values\n",
    "\n",
    "count = 0\n",
    "end_flag = False\n",
    "while not end_flag:\n",
    "    start = count * len_block\n",
    "    end = (count + 1) * len_block\n",
    "    if end >= len(video_ids):\n",
    "        end = len(video_ids)\n",
    "        end_flag = True\n",
    "\n",
    "    video_ids_per_block.append(','.join(video_ids[start:end]))\n",
    "\n",
    "    count += 1\n",
    "\n",
    "stats = []\n",
    "for block in video_ids_per_block:\n",
    "    time.sleep(30)\n",
    "    response = requests.get(stat_url % (API_KEY, block))\n",
    "    if response.status_code != 200:\n",
    "        print('error')\n",
    "        break\n",
    "    result = response.json()\n",
    "    stats.extend([item['statistics'] for item in result['items']])\n",
    "\n",
    "pd.DataFrame(stats).to_csv('data/stats.csv', index=None)"
   ]
  },
  {
   "cell_type": "code",
   "execution_count": 26,
   "metadata": {},
   "outputs": [],
   "source": [
    "videos = pd.read_csv('videos.csv')\n",
    "stasas = pd.read_csv('stats.csv')\n",
    "pd.merge(videos, stasas, left_index=True, right_index=True).to_csv('data/jarujaru_data.csv')"
   ]
  },
  {
   "cell_type": "code",
   "execution_count": 10,
   "metadata": {},
   "outputs": [
    {
     "data": {
      "image/png": "[encoded data removed]",
      "text/plain": [
       "<Figure size 432x288 with 1 Axes>"
      ]
     },
     "metadata": {},
     "output_type": "display_data"
    }
   ],
   "source": [
    "import matplotlib.pyplot as plt\n",
    "import pandas as pd\n",
    "\n",
    "df = pd.read_csv('jarujaru_data.csv')\n",
    "plt.hist(df['viewCount'], bins=200)\n",
    "plt.title('viewCount')\n",
    "plt.xlim([0, 1000000])\n",
    "plt.show()"
   ]
  },
  {
   "cell_type": "code",
   "execution_count": 3,
   "metadata": {},
   "outputs": [],
   "source": [
    "import re\n",
    "import pandas as pd\n",
    "info = []\n",
    "df = pd.read_csv('data/jarujaru_data.csv')\n",
    "for row, item in df.iterrows():\n",
    "    if '『' in item['title']:\n",
    "        title = 'x' + item['title']\n",
    "        title = re.split('[『』]', title)[1]\n",
    "        if item['viewCount'] >= 200000:\n",
    "            label = 2\n",
    "        elif 100000 <= item['viewCount'] < 200000:\n",
    "            label = 1\n",
    "        elif item['viewCount'] < 100000:\n",
    "            label = 0\n",
    "        info.extend([[title, item['viewCount'], item['likeCount'], item['dislikeCount'], item['commentCount'], label]])\n",
    "        \n",
    "pd.DataFrame(info, columns=['title', 'viewCount', 'likeCount', 'dislikeCount', 'commentCount', 'label']).to_csv('data/jarujaru_norm.csv')"
   ]
  },
  {
   "cell_type": "code",
   "execution_count": 2,
   "metadata": {},
   "outputs": [
    {
     "name": "stdout",
     "output_type": "stream",
     "text": [
      "[['タイトル', '曲', 'バランス', '合っ', 'て', '奴'], ['なん', 'ミス', 'する', '言う', 'コーチ', '奴'], ['優勝', 'インタビュー', 'ー', '言う', '奴'], ['サウナ', '入る', '南', '奴'], ['変', '先生', '奴'], ['息子', '手紙', '泣か', '奴'], ['屁', '振動', '文字', '書く', '奴'], ['言わ', '奴'], ['珍しい', '形', '会社', '乗っ取る', '奴'], ['オレオレ', '詐欺', '電話', 'かかっ', 'くる', '南', '奴'], ['日本人', 'ー', 'い', '言う', '奴'], ['一', '人', '言', '銀行', '強盗', '説得', 'する', '奴'], ['深呼吸', '吐く', '量', '少ない', '奴'], ['足', 'ぼ', 'マッサージ', 'する', '南', '奴'], ['服', '屋', 'バーベキュー', 'し', '奴'], ['オーダー', 'ミス', '体', '固まる', '奴'], ['拾っ', '財布', 'サイン', 'する', '舞台', '俳優', '奴'], ['ボディービルダー', 'おちょくる', '会社', '立ち', '上げ', '奴'], ['ケンカ', 'する', 'ない', '奴'], ['昔', 'そいつ', 'シバ', 'かれ', '奴'], ['本番', '声', '震える', '奴'], ['分かり', '言う', '分かっ', 'て', '奴'], ['強豪', 'サッカー', '部', '新任', 'コーチ', '奴'], ['笑っ', 'てる', '客', 'セコ', 'い', '言う', '漫才', '師', '奴'], ['客', 'もの', '欲し', 'がる', '引っ越し', '業者', '奴'], ['スカウト', 'さ', 'れ', '大学', '就職', '先', 'やめる', '奴'], ['主婦', 'ボクサー', '密着', 'する', '奴'], ['怒鳴る', 'タイミング', '予想', 'する', '奴'], ['主婦', 'ボクサー', '脱サラ', '５', '０', '代', 'カメラマン', '奴'], ['主婦', 'ボクサー', '奴'], ['ヤバ', 'い', '店員', 'ヤバ', 'い', '客', 'さ', 'れ', '奴'], ['ジム', '話しかけ', 'られる', '奴'], ['これ', '見', '時間', '無駄', 'する', '奴'], ['ボーリング', 'ボコ', '奴'], ['減量', '中', 'ボクサー', 'コンビ', '組ん', 'でる', '奴'], ['南', '奴', 'お父さん'], ['ギャグ', '練習', 'し', '本番', 'フラ', 'ない', '奴'], ['チャラ', '男', '番長', 'ネタ', '見る', '奴', 'パート', '43'], ['ギャグ', '魔神', 'サブ', 'い', 'バイト', '先', '奴'], ['面接', '官', '頭', '叩く', '奴'], ['教習所', '通う', '関東', '出身', 'ツッコミ', '下手', '奴'], ['有名人', 'もじっ', '名前', 'の', '似', 'て', '奴'], ['ポン酢', 'ｃｍ', '撮る', '奴'], ['途中', '見る', 'ウケ', 'てる', '分から', '漫才', 'する', '奴'], ['チャラ', '男', '番長', 'ネタ', '見る', '奴', 'パート', '42'], ['口笛', '指揮', '者', '奴'], ['上司', '短髪', 'イジ', '過ぎ', 'クビ', '奴'], ['短髪', 'し', '女', '奴'], ['あだ名'], ['ツッコミ', '抑揚', 'ない', '奴'], ['気持ち', '歌わ', 'せる', '奴'], ['アホ', '太郎', '奴'], ['漫才', '中', '気絶', 'し', 'ちゃう', '奴'], ['ホットパンツピッチャー', '言え', '奴'], ['怖', 'すぎる', '劇団', '員', '奴'], ['し', 'ばく', '口癖', '奴'], ['対処', 'はやい', '奴'], ['よく', '歌', '作る', '奴'], ['かつあげ', 'さ', 'れる', '奴'], ['師匠', 'ぶり', 'っ子', 'する', '奴'], ['調子', '乗っ', 'スタート', 'ダッシュ', 'する', '奴'], ['おもしろ', 'そう', 'アニメ', '声', '聞こえ', 'くる', '奴'], ['最高', 'ランク', '先生', '奴'], ['最低', 'ランク', '先生', '奴'], ['ボクシング', 'し', '数学', '教える', '奴'], ['ハー', 'モニカ', '教室', '通う', '南', '奴'], ['チャラ', '男', '番長', 'ネタ', '見る', '奴', 'パート', '41'], ['怒ら', 'れる', '唇', 'ぶる', '男', '奴'], ['ハズレ', '先生', '家庭', '訪問', 'さ', 'れる', '奴'], ['楽器', '忘れ', 'ん', 'バレ', '奴'], ['スタンガン', '効か', '奴'], ['黙っ', '相手', '言わす', '奴'], ['カバ', 'カバ', '思っ', 'いる', '奴'], ['退場', 'なっ', 'ダダ', 'こね', 'まくる', '奴'], ['高校生', '子供', '扱い', 'する', '奴'], ['喋る', 'スピード', '指導', 'する', '奴'], ['尻', 'ケガ', 'し', '奴'], ['ノリツッコミ', '長い', '奴'], ['尻', 'ペットボトル', '入れる', 'の', 'バレる', '奴'], ['ピアニスト', 'コラボ', 'する', '奴'], ['変わっ', 'てる', '奴'], ['笛', '落ち', 'すん', '奴'], ['しょ', 'ー', 'ない', 'こと', 'もめる', '奴'], ['知ら', 'ob', '挨拶', 'ダルイ', '奴'], ['デビュー', '曲', 'タイトル', '勝手', '決める', '奴'], ['頭', 'おかしい', '奴'], ['何', '回', '確認', 'する', '奴'], ['人質', 'チョ', 'イス', 'ミ', 'スっ', '奴'], ['何', '回', '生き返ら', 'さ', 'れる', '奴'], ['独裁', '者', '卵', '奴'], ['一瞬', '変', 'こと', '言っ', '医者', '奴'], ['キングオブコント', '決勝', 'やっ', 'ネタ', '野球', '部', 'する', '奴'], ['キングオブコント', '決勝', 'やっ', 'ネタ', '空き巣', 'する', '奴'], ['ウケ', '過ぎ', 'テンション', '下がる', '奴'], ['路上', 'やる', '向い', 'て', '漫才', 'する', '奴'], ['転校', '初日', '熟睡', 'する', '奴'], ['焦ら', 'タイプ', '奴'], ['カラオケ', '延長', 'する', 'わから', '奴'], ['革', 'ジャン', '着', 'てる', '和食', '料理', '人', '奴'], ['笑う', 'とき', 'バシバシ', '叩く', '奴'], ['ツッコミ', '下手', '関東', '人', '頑張っ', '喋り', 'かける', '奴'], ['無名', 'ミュージシャン', '取材', 'する', '奴'], ['失礼', 'こと', '言わ', 'れ', 'こらえる', '奴'], ['続い', 'ジョージ', 'コーナー', '言わさ', 'れる', '奴'], ['客', '逃す', '奴'], ['チャラ', '男', '番長', 'ネタ', '見る', '奴', 'パート', '38'], ['モノマネ', 'さ', 'れる', '奴', 'モノマネ', 'する', '南', '奴'], ['バイト', '面接', '受ける', '関東', '出身', 'ツッコミ', '下手', '人', '奴'], ['昼休み', 'タトゥー', '入れ', '奴'], ['姿勢', '頑固', '大将', '奴'], ['客', 'どかす', '奴'], ['タトゥー', '痛み', '耐え', 'られ', '奴'], ['南', '奴', 'バイト', '面接'], ['写真', '撮る', '時', '顔', 'チャラ', 'さ', '出る', '奴'], ['ヤツ', '言う', '奴'], ['再会', '予言', 'し', 'こと', '忘れる', '奴'], ['顔', '奴'], ['言語', '覚える', '天才', '奴'], ['勇気', '持続', 'せ', 'ー', '奴'], ['入院', 'し', 'てる', '病室', '教え', '奴'], ['密着', 'ｏｋ', 'カメラ', 'ｎｇ', '奴'], ['木片', 'つく', '奴'], ['そば', '息子', 'ダメ', '息子', '奴'], ['し', 'て', '怖かっ', '奴'], ['日常', 'オノ', 'バサミ', '奴'], ['地声', '良い', '歌声', '普通', '奴'], ['空手', 'スコップ', '使う', '奴'], ['３', '分の', '漫才', '１', '分', '縮める', '奴'], ['南', '奴', '店', '予約', '電話'], ['デコ', '狭い', 'キレ', 'やすい', '奴'], ['チャラ', '男', '番長', 'ネタ', '見る', '奴', 'パート', '35'], ['ー', '言う', 'くる', '奴'], ['なか', 'ぱなな', '奴'], ['サラ', '毛', 'ヘルメット', '坊主', '奴'], ['南', '奴', '銀行', '強盗'], ['ブラジル', '卓球', 'カルデラノ', 'し', 'てる', '奴'], ['１', '年間', 'けん玉', '練習', 'する', '言っ', 'し', '奴'], ['無駄', 'ムキムキ', 'なっ', '奴'], ['話し合い', '進ま', '奴'], ['ー', '言う', '奴'], ['わだかまり', '感じる', '奴'], ['南', '奴', '家庭', '教師'], ['会話', '間', '黙る', '奴'], ['お互い', 'きしょい', '思い', '合っ', 'てる', '奴'], ['殴ら', 'れる', 'ん', '下手', '奴'], ['高学歴', '採用', 'なる', '奴'], ['珍しい', '名前', 'せい', '採用', 'なる', '奴'], ['滑', '舌', '良', 'すぎ', '話', '逸れる', '奴'], ['壁', '茶色', '帰る', '奴'], ['個々', 'あっ', 'ー', '言う', '奴'], ['くすぐり', '奴', 'ネタ', '入り', '奴'], ['ギャグ', '魔神', 'サブ', 'い', '言う', '奴'], ['結局', '何', '生み出さ', '奴'], ['感覚', '違う', '奴'], ['正直', '者', 'ヤバ', 'い', '奴'], ['相方', '理解', 'でき', '奴'], ['けん玉', '成功', 'し', '1000', '万', '円', 'もらえる', '奴'], ['コメント', '読む', '奴', '5', '月', '編'], ['南', '奴', '停電'], ['死にかけ', 'いる', '人', '気付か', '奴'], ['隣人', 'うるさい', '奴'], ['高卒', '中卒', '奴'], ['南', '奴', 'サングラス'], ['変', '奴', 'なっ', '奴'], ['イメージ', '名前', 'つける', '奴'], ['待て', '空気', '作る', '奴'], ['飯', '食う', 'てる', '奴'], ['コント', '現実', '違い', '見せる', '奴'], ['必死', 'ネタ', '思い出す', '奴'], ['漫才', '中', '横柄', '奴'], ['南', '奴', 'しり', 'とり'], ['祭り', '言わ', '奴'], ['ボス', 'ジョボ', '奴'], ['南', '奴', '②'], ['演歌', 'オーディション', '受ける', '奴'], ['服', '小さい', '奴'], ['フィリピン', '語', '数学', '数える', '奴'], ['手品', '成功', 'し', 'ガッツポーズ', 'し', 'まくる', '奴'], ['歌う', 'ん', 'ハズ', 'い', '奴'], ['ハズレ', '先生', '担任', 'なっ', '奴'], ['尻', '•', '凡尻', '歌う', '奴'], ['男子', '高校生', 'くせ', 'アイドル', '目線', '歌', '作る', '奴'], ['男', '女子', 'バレー', '部', '試合', '呼ば', 'れ', '奴'], ['江戸', 'っ子', '探偵', '練習', 'さ', 'せ', 'られる', '奴'], ['練習', 'する', '奴'], ['ハゲ', 'うてる', '奴'], ['何', '回', '部屋', '入っ', 'くる', '奴'], ['くしゃみ', 'ゲップ', 'あくび', '変', '奴'], ['違い', '言う', '奴'], ['声', '細い', '奴', '声', '太い', '奴'], ['落語', '家', '演歌', '歌手', 'わから', '奴'], ['怒鳴り', '返さ', 'れ', 'ん', '気付か', '奴'], ['凄い', 'ショー', 'する', '奴'], ['本番', '滑', '舌', '悪い', '奴'], ['チャラ', '男', '番長', '奴'], ['案', '出す', '奴'], ['ちゃう', '奴', '呼ん', '奴'], ['南', '奴'], ['ハゲ', 'サンキュー', '芸名', '奴'], ['知ら', '奴', '声', 'かけ', 'られ', '奴'], ['押し', 'ドア', '引き', 'ドア', '間違える', '奴'], ['暇', 'すぎ', '面白い', 'ゲーム', 'する', '奴'], ['落語', '長', 'すぎる', '奴'], ['ウルフルズ', '影響', 'さ', 'れ', 'いる', '奴'], ['うろ覚え', '路上', 'ライブ', 'する', '奴'], ['父', '日', 'プレゼント', '受け取っ', 'もらえ', '奴'], ['無頓着', '奴'], ['当てる', '外す', '奴'], ['活き', 'いい', '若者', '探し', 'てる', '奴'], ['南', '奴', 'あっち', 'むい', 'ほ', 'い'], ['歩', 'ボケ', 'てる', '奴', 'ツッコミ', '奴'], ['嫌', 'こと', '指摘', 'さ', 'れる', '奴'], ['女', '苦手', '奴'], ['女', '苦手', '奴'], ['チャラ', '男', '番長', 'ネタ', '見る', '南', '奴'], ['つっこむ', 'とき', '声', '変わる', '奴'], ['センス', '悪い', 'プレゼント', 'もらっ', '泣く', '奴'], ['裏', 'ない', 'いい', '人', '過ぎる', '奴'], ['ツッコミ', '重い', '奴'], ['定期', '的', '言う', '奴', '関東', '出身', 'ツッコミ', '下手', '奴'], ['数字', '苦手', '奴'], ['来る', '奴'], ['モノマネ', 'さ', 'れる', '奴'], ['５', '８', '歳', '２', '９', '歳', '奴'], ['腹', 'ぺったんこ', '奴'], ['無意味', '質問', '無視', 'さ', 'れる', '奴'], ['南', 'くん', '漫才', 'する', '奴', '～', '変', '校内', '放送', 'ゲーム', '～'], ['学校', '来', 'て', '子', '盆栽', '見せる', '奴'], ['説教', '中', '屁', 'こい', '黙る', '奴'], ['変態', '追い出す', '奴'], ['裏方', 'ゴミ', '扱い', 'する', '奴'], ['南', 'くん', '聞き取れる', '奴', 'パート', '3'], ['５', '分', '後', 'うまい', '奴'], ['自分', 'ボケ', '自分', 'つっこむ', '奴'], ['街頭', 'インタビュー', 'さ', 'れる', '関東', '出身', 'ツッコミ', '下手', '奴'], ['バイト', '先', '関東', '出身', 'ツッコミ', '下手', '奴'], ['ノック', '分かっ', 'い', '奴'], ['ツッコミ', 'できる', '奴', '理解', 'でき', '奴'], ['才能', '枯れ', '奴'], ['社長', 'みたい', '奴'], ['謎', 'ミュージシャン', '待ち合わせ', 'する', '奴'], ['スキンナー', '言う', '奴'], ['自分', '敬語', '使う', '奴'], ['師匠', 'ジェネレーションギャップ', '感じる', '奴'], ['ムチ', '奴'], ['大便', '記憶', 'なくなっ', '奴'], ['行く', '言う', '奴'], ['息子', '万引き', '疑う', '奴'], ['万引き', '注意', 'スタンガン', '奴'], ['ゴリラ', '走り', '奴'], ['街', '中', '腰', '引け', 'てる', '奴'], ['ナン', 'レスリング', 'ブニブンカケイノヤツガアツマルカケンキュウブ', '入部', 'する', '奴'], ['電車', '顔', 'し', 'てる', '奴'], ['顔', 'し', 'てる', '奴'], ['ボディー', 'ミュージック', '世界', '送り込ま', 'れる', '奴'], ['家庭', '教師', 'くせ', 'うんこ', '行く', '奴'], ['格安', 'ホテル', '相部屋', 'なっ', '奴'], ['机', 'ピアノ', '代わり', 'する', '奴'], ['クリーン', '田', '社長', '身だしなみ', 'チェック', '受ける', '奴'], ['モグリ', '意味', 'こ', '奴'], ['勾玉', '奴'], ['牢屋', 'イメージ', '通り', '奴'], ['やっ', 'みる', '奴'], ['変質', '者', '更生', 'さ', 'せる', '奴'], ['面白', 'さ', '以前', 'キツ', 'い', '奴'], ['ツタ', 'だらけ', '家', '住ん', 'でる', '奴'], ['英会話', '教室', 'イラ', 'つく', '奴'], ['し', '聞く', '奴'], ['変', '趣味', 'ある', '奴'], ['ペン', 'キャップ', 'ついてる', 'の', '気付か', '奴'], ['どん', 'くさい', 'どん', 'くし', 'ぃ', '言う', '奴'], ['わけ', 'あっ', '声', 'かかっ', '奴'], ['２', '世代', 'しょぼい', '発明', 'し', '奴'], ['口説き', '落とせ', 'そう', '言い', '口説き落とす', '奴'], ['隣人', 'トラブル', 'エグ', 'い', '奴'], ['最後', '問題', '挑む', '奴'], ['ボイパ', '人生', '捧げ', '奴'], ['定期', '的', '聞く', '奴'], ['ライブ', 'バージョン', 'ダウンロード', 'し', 'しまっ', '奴'], ['客足', '減っ', '蕎麦', '屋', '改革', 'する', '奴'], ['解散', '判断', '早い', '奴'], ['ちっちゃい', '荷物', '届く', '奴'], ['コメント', '欄', '読む', '奴'], ['謎', '行動', '思春', '期', '一言', '片付ける', '奴'], ['学校', 'エアガン', '許可', 'さ', 'れ', 'てる', '奴'], ['気づか', 'うち', '痩せ', 'て', '奴'], ['ぇ', 'ー', 'ぇ', '言う', '奴'], ['ネタ', '思い付く', '呼び出す', '奴'], ['邪魔', '物', '腹', '殴る', '奴'], ['延長線', '上', '似', 'てる', '奴', 'いる', '奴'], ['日記', '書く', '力士', '奴'], ['m', '-', '1', '決勝', 'やっ', 'ネタ', '国名', '分', 'けっ', 'こ', 'やる', '奴'], ['寒い', '会社', '休む', '奴'], ['バレエ', '教室', 'やっ', 'てる', '奴'], ['洗脳', 'さ', 'れ', '奴'], ['０', '点', 'チャンピオン', '何', '回', '浪人', 'し', 'てる', '当てる', '奴'], ['行か', '言う', '奴'], ['アカン', '奴'], ['which', 'your', 'choice', '言う', '奴'], ['嫌', '奴', '思っ', 'いい', '奴'], ['来る', 'ん', '言う', '奴'], ['安心', 'さ', 'せ', '～」', '言う', '奴'], ['目', '合う', '可能', '性', '高い', 'ところ', '座る', '奴'], ['出身', '違う', '交じり', '合わ', '奴'], ['笹', '奴'], ['あっ', '奴'], ['態度', '一変', 'する', '奴', 'gk', '川島'], ['キャラ', '抜く', '契約', '書', 'サイン', 'し', '奴'], ['今', 'ん', 'つっ', '言う', '奴'], ['屁', 'こい', '固まる', '奴'], ['いい', '先生', '･･･', '奴'], ['殴る', '前', '袖', 'めくる', '奴'], ['飲み', '誘っ', 'くせ', '喋ら', '奴'], ['怒り', '分散', 'さ', 'せる', '奴'], ['トイレ', '借りる', '奴'], ['挨拶', '下手', '奴'], ['記者', '会見', 'する', '三流', '大学生', '奴'], ['ほんま', 'ヤバ', 'い', '奴'], ['バンド', 'メンバー', '外さ', 'れ', 'そう', '奴'], ['１', '対', '１', '苦手', '奴'], ['大丈夫', '大丈夫', '奴'], ['デコ', '狭い', '奴'], ['ボツ', '漫才', 'する', '奴', '色'], ['速', '乾し', '奴'], ['悪気', 'なく', '笑い', 'とる', '奴'], ['注意', 'する', '奴'], ['タメ', '口', '奴'], ['ツッコミエコー', 'かかる', '奴'], ['サラッ', 'キツ', 'いこ', '言う', '奴'], ['引く', '奴'], ['方針', '変える', '奴'], ['説明', '下手', '奴'], ['最初', '笑っ', 'て', 'キレ', '奴'], ['天才', 'すぎ', '変', '奴'], ['うるさ', '過ぎ', 'かたまる', '奴'], ['ヒント', '与え', '奴'], ['人', 'まちがい', 'し', '恥ずかしく', '奴'], ['共通', '点', '多い', '飯', '断る', '奴'], ['けん玉', '兄弟', 'さ', 'れ', 'てる', '奴', '(', '楽屋', ')'], ['けん玉', '兄弟', '奴'], ['ちょ', 'けた', '出し', 'もんし', '後悔', 'する', '奴'], ['忙しく', 'の', 'バレる', '奴'], ['角刈り', 'フクロウ', '奴'], ['鮎', '屁', '嗅が', 'せる', '奴'], ['絶対', '受かっ', '思っ', '奴'], ['シュール', 'ネタ', 'し', 'そう', '奴'], ['客', 'ドリンク', 'こぼす', '前', '店', 'やめる', '奴'], ['客', 'ドリンク', 'こぼし', '瞬間', '店', 'やめる', '奴'], ['新任', 'お笑い', '指導', 'する', '奴'], ['漫才', '賭ける', '奴', '③'], ['漫才', '賭ける', '奴', '①'], ['参観', '日', '地獄', '見る', '奴'], ['ボケ', '奴'], ['落語', '結婚', '祝い', 'する', '奴'], ['ヘン', 'こと', 'さ', 'せる', '奴'], ['価値', '観', '大事', 'する', '奴', '①'], ['ラグビー', '教える', '奴'], ['カラオケ', '行く', '奴', '06', ':', '00'], ['カラオケ', '行く', '奴', '21', ':', '00', '06', ':', '00'], ['カラオケ', '行く', '奴', '19', ':', '00', '20', ':', '00'], ['オーディション', '死ぬ', '奴'], ['面接', '中', 'おにぎり', '食う', '奴'], ['ツッコミ', '講座', 'する', '奴', '1'], ['on', 'off', '激しい', '奴'], ['ほんま', '行く', 'ん', '言う', '奴'], ['絶対', '禿げ', 'てる', '奴'], ['死にかけ', 'てる', 'の', '気付か', '奴'], ['ガチガチ', '言う', '奴'], ['クラス', '全員', 'ツッコミ', '奴'], ['ミュージシャン', '漫才', '師', 'わから', '奴'], ['力ずく', '耐える', '奴'], ['二', '人', '授業', 'する', '奴'], ['才能', 'あり', 'そう', '奴'], ['関東', '出身', 'ツッコミ', '下手', '奴'], ['しょうもない', '理由', '喧嘩', 'する', '奴'], ['スタッフ', '仲良', 'すぎる', '奴'], ['やき', '焼く', '奴'], ['脚本', '家', '言え', '奴'], ['｢', '｣｢', '｣｢', '｣', '奴'], ['ゲーム', 'ガチ', 'ピンポンパンゲーム', 'やっ', 'みる', '奴', '(', '攻守', '交代', ')'], ['練習', 'なし', '久々', 'ピンポンパンゲーム', 'やっ', 'み', '奴'], ['言う', '奴'], ['話す', 'の', '下手', '奴'], ['葬式', '故人', '偲ん', 'でる', '変', 'こと', 'する', '奴'], ['守る', '傷つける', '奴'], ['嘘つき', '通す', '奴', 'cd'], ['機嫌', '悪い', '生徒', '急', '怒り', '出す', '奴'], ['先生', 'こと', '普段', 'あだ名', '呼ん', 'でる', 'の', 'バレる', '奴'], ['家庭', '教師', 'くせ', '鼻', 'ほじる', '奴'], ['股', 'ピン', '球', '落とす', '奴'], ['ゲップ', 'せい', '泣く', '奴'], ['自分', '名前', 'まちがい', 'まくる', '奴'], ['気持ち', '悪', 'がっ', 'てる', '気持ち', '悪い', 'ほう', '奴'], ['司会', '者', 'くせ', 'しゃべら', '奴'], ['会話', 'リズム', '合わ', '奴'], ['ボロクソ', '言わ', 'れ', '感心', 'する', '奴'], ['珍しい', '形', 'ファン', '支持', 'さ', 'れ', 'てる', '奴'], ['家庭', '教師', 'クセ', '顔', 'キツイ', '奴'], ['言う', '奴'], ['友達', 'こと', '信用', 'し', 'て', '奴'], ['猫', '召喚', '゙きたなら'], ['五', '百', '年', '目', 'マリオン'], ['めし'], ['マヤ', 'さん', '夜', '更かし'], ['嘘', 'つき', '通す', '奴', 'ピザ'], ['ー', '!!!'], ['屁', '我慢', 'し', 'てる', '面接', '官'], ['おば', 'はん', '絡み'], ['男', '女', 'わから', '奴'], ['新入', '社員', '説明', '会'], ['屁', '足音'], ['角刈り', 'くせ', 'クラス', 'メイン', 'なろ', 'する', '奴'], ['ふざける', '奴'], ['びっくり', 'し', '話'], ['芝居', '観', '行っ', '奴ら'], ['イス', '取り', 'ゲーム'], ['理解', '不能', '者', '病院'], ['ハンドイートマン'], ['変', '奴'], ['演歌'], ['ため', '口'], ['落語'], ['水泳', '部', '部活', '紹介', '２', '０', '０', '２'], ['幼なじみ'], ['すごい', '展開'], ['kumo'], ['モジャモジャルジャル'], ['モジャモジャルジャル'], ['柔道'], ['腕相撲'], ['熱烈', 'kiss'], ['しつこい', 'ひったくり'], ['同い年', '家庭', '教師'], ['しり', 'とり'], ['変装'], ['変', 'キャラ', '練習', 'さ', 'せ', 'られ', 'てる', '奴'], ['水泳', '部', '部活', '紹介', '１', '９', '９', '５'], ['人間', 'シュレッダー'], ['タレソカレ'], ['よこしま', '江口', '君'], ['文豪', 'アクト'], ['疫病神', '女神'], ['しあわせ', 'ポ', 'ポチ'], ['フルーチェ', '牛乳', '混ざっ', '固まっ', 'いく', 'よう', 'しり', 'とり'], ['グレン', 'デル'], ['たべ', 'のけもの'], ['本物', 'オッチャン', '到着'], ['オッチャン', '話', '５'], ['オッチャン', '話', '４'], ['オッチャン', '話', '３'], ['オッチャン', '話', '２'], ['オッチャン', 'い'], ['笑', 'けずり', '裏側']]\n"
     ]
    }
   ],
   "source": [
    "import analysis\n",
    "import pandas as pd\n",
    "\n",
    "df = pd.read_csv('data/jarujaru_norm.csv')\n",
    "words = analysis.get_words(df['title'])\n",
    "print(words)"
   ]
  },
  {
   "cell_type": "code",
   "execution_count": 3,
   "metadata": {},
   "outputs": [],
   "source": [
    "from gensim import corpora\n",
    "\n",
    "dictionary = corpora.Dictionary(words)\n",
    "dictionary.filter_extremes()\n",
    "#dictionary.save_as_text(\"./tmp/dictionary.txt\") で、作成した辞書を保存可能\n",
    "#dictionary = corpora.Dictionary.load_from_text(\"./tmp/dictionary.txt\") で読み込み\n",
    "#courpus = [dictionary.doc2bow(word) for word in words]\n",
    "#print(courpus)"
   ]
  },
  {
   "cell_type": "code",
   "execution_count": 6,
   "metadata": {},
   "outputs": [],
   "source": [
    "from gensim import matutils\n",
    "\n",
    "def vec2dense(vec, num_terms):\n",
    "    return list(matutils.corpus2dense([vec], num_terms=num_terms).T[0])\n",
    "data_all = [vec2dense(dictionary.doc2bow(words[i]),len(dictionary)) for i in range(len(words))]\n",
    "#print(data_all)"
   ]
  },
  {
   "cell_type": "code",
   "execution_count": 7,
   "metadata": {},
   "outputs": [
    {
     "name": "stdout",
     "output_type": "stream",
     "text": [
      "[0. 0. 1.]\n"
     ]
    }
   ],
   "source": [
    "import numpy as np\n",
    "\n",
    "target_vector = df['label']\n",
    "n_labels = len(np.unique(target_vector))\n",
    "labels = np.eye(n_labels)[target_vector]\n",
    "print(labels[8])"
   ]
  },
  {
   "cell_type": "code",
   "execution_count": 13,
   "metadata": {},
   "outputs": [
    {
     "name": "stdout",
     "output_type": "stream",
     "text": [
      "(271, 50)\n",
      "(271,)\n"
     ]
    },
    {
     "data": {
      "text/plain": [
       "SVC(C=3, cache_size=200, class_weight=None, coef0=0.0,\n",
       "  decision_function_shape='ovr', degree=3, gamma='auto', kernel='rbf',\n",
       "  max_iter=-1, probability=False, random_state=None, shrinking=True,\n",
       "  tol=0.001, verbose=False)"
      ]
     },
     "execution_count": 13,
     "metadata": {},
     "output_type": "execute_result"
    }
   ],
   "source": [
    "from sklearn.model_selection import train_test_split\n",
    "from sklearn.preprocessing import StandardScaler\n",
    "from sklearn.svm import SVC\n",
    "\n",
    "#トレーニング・テストデータの設定\n",
    "train_data = data_all\n",
    "X_train, X_test, y_train, y_test = train_test_split(train_data, df['label'], test_size=0.4, random_state=1)\n",
    "print(np.array(X_train).shape)\n",
    "print(np.array(y_train).shape)\n",
    "\n",
    "#データの標準化\n",
    "sc = StandardScaler()\n",
    "sc.fit(X_train)\n",
    "X_train_std = sc.transform(X_train)\n",
    "X_test_std = sc.transform(X_test)\n",
    "\n",
    "\n",
    "#学習モデルの作成\n",
    "clf = SVC(C = 3, kernel = 'rbf')\n",
    "clf.fit(X_train_std, y_train)"
   ]
  },
  {
   "cell_type": "code",
   "execution_count": 14,
   "metadata": {},
   "outputs": [
    {
     "name": "stdout",
     "output_type": "stream",
     "text": [
      "0.533\n"
     ]
    }
   ],
   "source": [
    "score = clf.score(X_test_std, y_test)\n",
    "print(\"{:.3g}\".format(score))"
   ]
  },
  {
   "cell_type": "code",
   "execution_count": null,
   "metadata": {},
   "outputs": [],
   "source": []
  }
 ],
 "metadata": {
  "kernelspec": {
   "display_name": "Python 3",
   "language": "python",
   "name": "python3"
  },
  "language_info": {
   "codemirror_mode": {
    "name": "ipython",
    "version": 3
   },
   "file_extension": ".py",
   "mimetype": "text/x-python",
   "name": "python",
   "nbconvert_exporter": "python",
   "pygments_lexer": "ipython3",
   "version": "3.6.8"
  }
 },
 "nbformat": 4,
 "nbformat_minor": 2
}
